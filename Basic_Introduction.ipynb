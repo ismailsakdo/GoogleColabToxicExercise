{
  "nbformat": 4,
  "nbformat_minor": 0,
  "metadata": {
    "colab": {
      "provenance": [],
      "authorship_tag": "ABX9TyOpIHhw9SzmBRfuxntkJKlr",
      "include_colab_link": true
    },
    "kernelspec": {
      "name": "python3",
      "display_name": "Python 3"
    },
    "language_info": {
      "name": "python"
    }
  },
  "cells": [
    {
      "cell_type": "markdown",
      "metadata": {
        "id": "view-in-github",
        "colab_type": "text"
      },
      "source": [
        "<a href=\"https://colab.research.google.com/github/ismailsakdo/GoogleColabToxicExercise/blob/main/Basic_Introduction.ipynb\" target=\"_parent\"><img src=\"https://colab.research.google.com/assets/colab-badge.svg\" alt=\"Open In Colab\"/></a>"
      ]
    },
    {
      "cell_type": "markdown",
      "source": [
        "**Introduction**\n",
        "\n",
        "In this example we are going to explore the basic ideas on how to analyze simple 3 features dataset that able to classify the toxicity status based on the given factors. The 3 features will be as Molecular Weight (MW), Chemical Lipophilicity (LogP) and Toxicity status (either 0 = non toxic and 1 as toxic).\n",
        "\n",
        "The data is basically a hypothethical random data generated from Google Sheet which already being share in the [LINK](https://docs.google.com/spreadsheets/d/1T-vr7azWfWD6PqvSKS44RpwXQ4ArISUgG4E8ZdVVc7w/edit?usp=sharing).\n",
        "\n",
        "**Objective**\n",
        "1.   Import the data from Google Sheet\n",
        "2.   Perform simple data analytics to measure classification accuracy for predicting toxic/ non toxic condition\n",
        "\n",
        "*Step 1*\n",
        "*   Install Libraries\n"
      ],
      "metadata": {
        "id": "wCOUIFjEXu46"
      }
    },
    {
      "cell_type": "code",
      "source": [
        "!pip install pandas scikit-learn"
      ],
      "metadata": {
        "id": "76VcYydzZ4ZN"
      },
      "execution_count": null,
      "outputs": []
    },
    {
      "cell_type": "markdown",
      "source": [
        "*Step 2*\n",
        "\n",
        "*   Import dataset/ example data from link given\n",
        "*   replace the ABCDEFGH with your Google Sheet ID and PASTE into the link\n",
        "*   https://docs.google.com/spreadsheets/d/ABCDEFGH/export?format=csv\n",
        "*   Example my ABCDEFG is: 1T-vr7azWfWD6PqvSKS44RpwXQ4ArISUgG4E8ZdVVc7w\n",
        "*   Therefore my url will be as indicated below"
      ],
      "metadata": {
        "id": "MzITire4Z3Yc"
      }
    },
    {
      "cell_type": "code",
      "source": [
        "import pandas as pd\n",
        "url = 'https://docs.google.com/spreadsheets/d/1T-vr7azWfWD6PqvSKS44RpwXQ4ArISUgG4E8ZdVVc7w/export?format=csv'\n",
        "df = pd.read_csv(url)\n",
        "print(df)"
      ],
      "metadata": {
        "id": "DnipLKVOaQr7"
      },
      "execution_count": null,
      "outputs": []
    },
    {
      "cell_type": "markdown",
      "source": [
        "*Step 3*\n",
        "*   Preparing you data\n",
        "*   Seperate your features between factors and effects\n",
        "*   Name the factor as X and Y as the outcome (Big Capital Letter)\n",
        "\n"
      ],
      "metadata": {
        "id": "MQJf6HrzcDYc"
      }
    },
    {
      "cell_type": "code",
      "source": [
        "x = df[['MW','LogP']]\n",
        "y =df['Toxicity']\n",
        "print(X)\n",
        "print(Y)"
      ],
      "metadata": {
        "id": "HOwdRjjicK_X"
      },
      "execution_count": null,
      "outputs": []
    },
    {
      "cell_type": "markdown",
      "source": [
        "*Step 4*\n",
        "*   Split the data between the training and testing\n"
      ],
      "metadata": {
        "id": "9R78xJ6WcrHh"
      }
    },
    {
      "cell_type": "code",
      "source": [
        "from sklearn.model_selection import train_test_split\n",
        "x_train, x_test, y_train, y_test = train_test_split(x,y,test_size=0.2, random_state=50)"
      ],
      "metadata": {
        "id": "sZmWxVJac1a-"
      },
      "execution_count": 10,
      "outputs": []
    },
    {
      "cell_type": "markdown",
      "source": [
        "*Step 5*\n",
        "*   Build/ choose a model\n",
        "*   In this example because of its a classification, then use Logistic Regression"
      ],
      "metadata": {
        "id": "wj-x8TtkeHO3"
      }
    },
    {
      "cell_type": "code",
      "source": [
        "from sklearn.linear_model import LogisticRegression\n",
        "model = LogisticRegression()"
      ],
      "metadata": {
        "id": "wqpJ0tGKeWQX"
      },
      "execution_count": 11,
      "outputs": []
    },
    {
      "cell_type": "markdown",
      "source": [
        "*Step 6*\n",
        "*   Train the model using the features as we set"
      ],
      "metadata": {
        "id": "hq8Jgqbxekvk"
      }
    },
    {
      "cell_type": "code",
      "source": [
        "model.fit(x_train, y_train)"
      ],
      "metadata": {
        "id": "xlQ4fGRsexaW"
      },
      "execution_count": null,
      "outputs": []
    },
    {
      "cell_type": "markdown",
      "source": [
        "*Step 7*\n",
        "*   Evaluate Model Performance\n",
        "*   Try to make prediction"
      ],
      "metadata": {
        "id": "xQ77hN5Ie7rk"
      }
    },
    {
      "cell_type": "code",
      "source": [
        "y_pred = model.predict(x_test)"
      ],
      "metadata": {
        "id": "wPWETATtfYIV"
      },
      "execution_count": 13,
      "outputs": []
    },
    {
      "cell_type": "markdown",
      "source": [
        "*Step 8*\n",
        "*   Check the accuracy of the model\n",
        "\n"
      ],
      "metadata": {
        "id": "vkbYm5hvfis1"
      }
    },
    {
      "cell_type": "code",
      "source": [
        "from sklearn.metrics import accuracy_score\n",
        "accuracy = accuracy_score(y_test, y_pred)\n",
        "print(f'Accuracy: {accuracy}') # writing output way1\n",
        "print(\"Accuracy:\", accuracy) # writing output way2"
      ],
      "metadata": {
        "id": "Y-zO4v5Pfttd"
      },
      "execution_count": null,
      "outputs": []
    },
    {
      "cell_type": "markdown",
      "source": [
        "---\n",
        "\n"
      ],
      "metadata": {
        "id": "QxfgEkrKgNAH"
      }
    },
    {
      "cell_type": "markdown",
      "source": [
        "*Step 9*\n",
        "* Let's explore the additional ideas where we perform numbers of classifier in our model testing\n",
        "* This include the use of Random Forest and Decision Tree"
      ],
      "metadata": {
        "id": "MiWZ-RhSgQlw"
      }
    },
    {
      "cell_type": "code",
      "source": [
        "from sklearn.linear_model import LogisticRegression\n",
        "from sklearn.ensemble import RandomForestClassifier\n",
        "from sklearn.tree import DecisionTreeClassifier\n",
        "from sklearn.metrics import accuracy_score\n",
        "\n",
        "model = {\n",
        "    'Logistic_Regression': LogisticRegression(),\n",
        "    'Random_Forest': RandomForestClassifier(),\n",
        "    'Decision Tree': DecisionTreeClassifier(),\n",
        "}\n",
        "\n",
        "for model_name, model in model.items():\n",
        "    print(f\"Training {model_name}...\")\n",
        "    model.fit(x_train, y_train)\n",
        "\n",
        "    y_pred = model.predict(x_test)\n",
        "    accuracy = accuracy_score(y_test, y_pred)\n",
        "    print(f\"{model_name} Accuracy: {accuracy}\")"
      ],
      "metadata": {
        "id": "ajCEyxKdgmcy"
      },
      "execution_count": null,
      "outputs": []
    },
    {
      "cell_type": "markdown",
      "source": [
        "**End**"
      ],
      "metadata": {
        "id": "dwoH2FvWjfwN"
      }
    }
  ]
}